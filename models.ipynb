{
  "nbformat": 4,
  "nbformat_minor": 0,
  "metadata": {
    "colab": {
      "provenance": [],
      "authorship_tag": "ABX9TyPYtAyqD8HO9oybNQke9R2K",
      "include_colab_link": true
    },
    "kernelspec": {
      "name": "python3",
      "display_name": "Python 3"
    },
    "language_info": {
      "name": "python"
    }
  },
  "cells": [
    {
      "cell_type": "markdown",
      "metadata": {
        "id": "view-in-github",
        "colab_type": "text"
      },
      "source": [
        "<a href=\"https://colab.research.google.com/github/techquila192/Gamma-Hadron-Classification/blob/main/Untitled2.ipynb\" target=\"_parent\"><img src=\"https://colab.research.google.com/assets/colab-badge.svg\" alt=\"Open In Colab\"/></a>"
      ]
    },
    {
      "cell_type": "code",
      "execution_count": 34,
      "metadata": {
        "id": "nOUx_24wTpqZ"
      },
      "outputs": [],
      "source": [
        "import numpy as np # linear algebra\n",
        "import pandas as pd # data processing, CSV file I/O (e.g. pd.read_csv)\n",
        "import matplotlib.pyplot as plt\n",
        "from sklearn.preprocessing import StandardScaler\n",
        "from imblearn.over_sampling import RandomOverSampler\n",
        "from sklearn.metrics import accuracy_score"
      ]
    },
    {
      "cell_type": "code",
      "source": [
        "cols=['fLength', 'fWidth', 'fSize', 'fConC', 'fConc1', 'fAsym', 'fM3Long', 'fM3Trans', 'fAlpha', 'fDist', 'class']\n",
        "df = pd.read_csv(\"/content/sample_data/magic04.data\",names=cols)\n",
        "df_train,df_test,df_valid = np.split(df.sample(frac=1),[int(0.6*len(df)),int(0.8*len(df))])\n",
        "df_train.head(10)"
      ],
      "metadata": {
        "id": "xZAaCNgOTuvr",
        "colab": {
          "base_uri": "https://localhost:8080/",
          "height": 363
        },
        "outputId": "bc8d72e1-5154-4d71-a2f2-b824d42f0cf9"
      },
      "execution_count": 35,
      "outputs": [
        {
          "output_type": "execute_result",
          "data": {
            "text/plain": [
              "        fLength   fWidth   fSize   fConC  fConc1    fAsym  fM3Long  fM3Trans  \\\n",
              "2153    32.3022  14.8135  2.7832  0.4382  0.2595  40.9266  23.3847   12.3260   \n",
              "14647   25.8010  21.5157  2.6187  0.3049  0.1519  16.8513  13.8349  -14.1239   \n",
              "6903    33.4992  12.0120  2.6248  0.4413  0.2859  38.7827  20.6561   11.1602   \n",
              "17975  123.1790  24.6852  3.3411  0.2585  0.1411 -75.3966  69.1339   18.4605   \n",
              "17279   20.7522   8.9492  2.3874  0.6434  0.3586  24.0649  10.5927    1.8768   \n",
              "13234   77.1446  38.0002  3.6371  0.1518  0.0956 -33.1911  70.3046   29.5218   \n",
              "8069    30.9768  12.5732  2.6972  0.4458  0.2620  26.9816  26.4698    9.7728   \n",
              "17167   96.2503  44.8200  3.3839  0.0817  0.0292 -74.6218 -95.1478   43.5440   \n",
              "5781    25.6507  15.6521  2.6527  0.4672  0.2570  22.8993  22.1003   -5.9987   \n",
              "8047    21.8049   9.0505  2.3054  0.6287  0.3441   4.5959 -16.0107  -10.7749   \n",
              "\n",
              "        fAlpha     fDist class  \n",
              "2153   10.8360  131.5200     g  \n",
              "14647  29.4336  142.0574     h  \n",
              "6903   16.2492  197.9290     g  \n",
              "17975   8.9870  343.2420     h  \n",
              "17279  36.3060  126.3930     h  \n",
              "13234  31.7121  285.0727     h  \n",
              "8069   10.8290  182.3420     g  \n",
              "17167  17.2484  218.1069     h  \n",
              "5781    0.6530  153.3920     g  \n",
              "8047   60.7750   58.9665     g  "
            ],
            "text/html": [
              "\n",
              "  <div id=\"df-85647a9b-4f21-4a3d-b2e3-4c3420d26ad2\" class=\"colab-df-container\">\n",
              "    <div>\n",
              "<style scoped>\n",
              "    .dataframe tbody tr th:only-of-type {\n",
              "        vertical-align: middle;\n",
              "    }\n",
              "\n",
              "    .dataframe tbody tr th {\n",
              "        vertical-align: top;\n",
              "    }\n",
              "\n",
              "    .dataframe thead th {\n",
              "        text-align: right;\n",
              "    }\n",
              "</style>\n",
              "<table border=\"1\" class=\"dataframe\">\n",
              "  <thead>\n",
              "    <tr style=\"text-align: right;\">\n",
              "      <th></th>\n",
              "      <th>fLength</th>\n",
              "      <th>fWidth</th>\n",
              "      <th>fSize</th>\n",
              "      <th>fConC</th>\n",
              "      <th>fConc1</th>\n",
              "      <th>fAsym</th>\n",
              "      <th>fM3Long</th>\n",
              "      <th>fM3Trans</th>\n",
              "      <th>fAlpha</th>\n",
              "      <th>fDist</th>\n",
              "      <th>class</th>\n",
              "    </tr>\n",
              "  </thead>\n",
              "  <tbody>\n",
              "    <tr>\n",
              "      <th>2153</th>\n",
              "      <td>32.3022</td>\n",
              "      <td>14.8135</td>\n",
              "      <td>2.7832</td>\n",
              "      <td>0.4382</td>\n",
              "      <td>0.2595</td>\n",
              "      <td>40.9266</td>\n",
              "      <td>23.3847</td>\n",
              "      <td>12.3260</td>\n",
              "      <td>10.8360</td>\n",
              "      <td>131.5200</td>\n",
              "      <td>g</td>\n",
              "    </tr>\n",
              "    <tr>\n",
              "      <th>14647</th>\n",
              "      <td>25.8010</td>\n",
              "      <td>21.5157</td>\n",
              "      <td>2.6187</td>\n",
              "      <td>0.3049</td>\n",
              "      <td>0.1519</td>\n",
              "      <td>16.8513</td>\n",
              "      <td>13.8349</td>\n",
              "      <td>-14.1239</td>\n",
              "      <td>29.4336</td>\n",
              "      <td>142.0574</td>\n",
              "      <td>h</td>\n",
              "    </tr>\n",
              "    <tr>\n",
              "      <th>6903</th>\n",
              "      <td>33.4992</td>\n",
              "      <td>12.0120</td>\n",
              "      <td>2.6248</td>\n",
              "      <td>0.4413</td>\n",
              "      <td>0.2859</td>\n",
              "      <td>38.7827</td>\n",
              "      <td>20.6561</td>\n",
              "      <td>11.1602</td>\n",
              "      <td>16.2492</td>\n",
              "      <td>197.9290</td>\n",
              "      <td>g</td>\n",
              "    </tr>\n",
              "    <tr>\n",
              "      <th>17975</th>\n",
              "      <td>123.1790</td>\n",
              "      <td>24.6852</td>\n",
              "      <td>3.3411</td>\n",
              "      <td>0.2585</td>\n",
              "      <td>0.1411</td>\n",
              "      <td>-75.3966</td>\n",
              "      <td>69.1339</td>\n",
              "      <td>18.4605</td>\n",
              "      <td>8.9870</td>\n",
              "      <td>343.2420</td>\n",
              "      <td>h</td>\n",
              "    </tr>\n",
              "    <tr>\n",
              "      <th>17279</th>\n",
              "      <td>20.7522</td>\n",
              "      <td>8.9492</td>\n",
              "      <td>2.3874</td>\n",
              "      <td>0.6434</td>\n",
              "      <td>0.3586</td>\n",
              "      <td>24.0649</td>\n",
              "      <td>10.5927</td>\n",
              "      <td>1.8768</td>\n",
              "      <td>36.3060</td>\n",
              "      <td>126.3930</td>\n",
              "      <td>h</td>\n",
              "    </tr>\n",
              "    <tr>\n",
              "      <th>13234</th>\n",
              "      <td>77.1446</td>\n",
              "      <td>38.0002</td>\n",
              "      <td>3.6371</td>\n",
              "      <td>0.1518</td>\n",
              "      <td>0.0956</td>\n",
              "      <td>-33.1911</td>\n",
              "      <td>70.3046</td>\n",
              "      <td>29.5218</td>\n",
              "      <td>31.7121</td>\n",
              "      <td>285.0727</td>\n",
              "      <td>h</td>\n",
              "    </tr>\n",
              "    <tr>\n",
              "      <th>8069</th>\n",
              "      <td>30.9768</td>\n",
              "      <td>12.5732</td>\n",
              "      <td>2.6972</td>\n",
              "      <td>0.4458</td>\n",
              "      <td>0.2620</td>\n",
              "      <td>26.9816</td>\n",
              "      <td>26.4698</td>\n",
              "      <td>9.7728</td>\n",
              "      <td>10.8290</td>\n",
              "      <td>182.3420</td>\n",
              "      <td>g</td>\n",
              "    </tr>\n",
              "    <tr>\n",
              "      <th>17167</th>\n",
              "      <td>96.2503</td>\n",
              "      <td>44.8200</td>\n",
              "      <td>3.3839</td>\n",
              "      <td>0.0817</td>\n",
              "      <td>0.0292</td>\n",
              "      <td>-74.6218</td>\n",
              "      <td>-95.1478</td>\n",
              "      <td>43.5440</td>\n",
              "      <td>17.2484</td>\n",
              "      <td>218.1069</td>\n",
              "      <td>h</td>\n",
              "    </tr>\n",
              "    <tr>\n",
              "      <th>5781</th>\n",
              "      <td>25.6507</td>\n",
              "      <td>15.6521</td>\n",
              "      <td>2.6527</td>\n",
              "      <td>0.4672</td>\n",
              "      <td>0.2570</td>\n",
              "      <td>22.8993</td>\n",
              "      <td>22.1003</td>\n",
              "      <td>-5.9987</td>\n",
              "      <td>0.6530</td>\n",
              "      <td>153.3920</td>\n",
              "      <td>g</td>\n",
              "    </tr>\n",
              "    <tr>\n",
              "      <th>8047</th>\n",
              "      <td>21.8049</td>\n",
              "      <td>9.0505</td>\n",
              "      <td>2.3054</td>\n",
              "      <td>0.6287</td>\n",
              "      <td>0.3441</td>\n",
              "      <td>4.5959</td>\n",
              "      <td>-16.0107</td>\n",
              "      <td>-10.7749</td>\n",
              "      <td>60.7750</td>\n",
              "      <td>58.9665</td>\n",
              "      <td>g</td>\n",
              "    </tr>\n",
              "  </tbody>\n",
              "</table>\n",
              "</div>\n",
              "    <div class=\"colab-df-buttons\">\n",
              "\n",
              "  <div class=\"colab-df-container\">\n",
              "    <button class=\"colab-df-convert\" onclick=\"convertToInteractive('df-85647a9b-4f21-4a3d-b2e3-4c3420d26ad2')\"\n",
              "            title=\"Convert this dataframe to an interactive table.\"\n",
              "            style=\"display:none;\">\n",
              "\n",
              "  <svg xmlns=\"http://www.w3.org/2000/svg\" height=\"24px\" viewBox=\"0 -960 960 960\">\n",
              "    <path d=\"M120-120v-720h720v720H120Zm60-500h600v-160H180v160Zm220 220h160v-160H400v160Zm0 220h160v-160H400v160ZM180-400h160v-160H180v160Zm440 0h160v-160H620v160ZM180-180h160v-160H180v160Zm440 0h160v-160H620v160Z\"/>\n",
              "  </svg>\n",
              "    </button>\n",
              "\n",
              "  <style>\n",
              "    .colab-df-container {\n",
              "      display:flex;\n",
              "      gap: 12px;\n",
              "    }\n",
              "\n",
              "    .colab-df-convert {\n",
              "      background-color: #E8F0FE;\n",
              "      border: none;\n",
              "      border-radius: 50%;\n",
              "      cursor: pointer;\n",
              "      display: none;\n",
              "      fill: #1967D2;\n",
              "      height: 32px;\n",
              "      padding: 0 0 0 0;\n",
              "      width: 32px;\n",
              "    }\n",
              "\n",
              "    .colab-df-convert:hover {\n",
              "      background-color: #E2EBFA;\n",
              "      box-shadow: 0px 1px 2px rgba(60, 64, 67, 0.3), 0px 1px 3px 1px rgba(60, 64, 67, 0.15);\n",
              "      fill: #174EA6;\n",
              "    }\n",
              "\n",
              "    .colab-df-buttons div {\n",
              "      margin-bottom: 4px;\n",
              "    }\n",
              "\n",
              "    [theme=dark] .colab-df-convert {\n",
              "      background-color: #3B4455;\n",
              "      fill: #D2E3FC;\n",
              "    }\n",
              "\n",
              "    [theme=dark] .colab-df-convert:hover {\n",
              "      background-color: #434B5C;\n",
              "      box-shadow: 0px 1px 3px 1px rgba(0, 0, 0, 0.15);\n",
              "      filter: drop-shadow(0px 1px 2px rgba(0, 0, 0, 0.3));\n",
              "      fill: #FFFFFF;\n",
              "    }\n",
              "  </style>\n",
              "\n",
              "    <script>\n",
              "      const buttonEl =\n",
              "        document.querySelector('#df-85647a9b-4f21-4a3d-b2e3-4c3420d26ad2 button.colab-df-convert');\n",
              "      buttonEl.style.display =\n",
              "        google.colab.kernel.accessAllowed ? 'block' : 'none';\n",
              "\n",
              "      async function convertToInteractive(key) {\n",
              "        const element = document.querySelector('#df-85647a9b-4f21-4a3d-b2e3-4c3420d26ad2');\n",
              "        const dataTable =\n",
              "          await google.colab.kernel.invokeFunction('convertToInteractive',\n",
              "                                                    [key], {});\n",
              "        if (!dataTable) return;\n",
              "\n",
              "        const docLinkHtml = 'Like what you see? Visit the ' +\n",
              "          '<a target=\"_blank\" href=https://colab.research.google.com/notebooks/data_table.ipynb>data table notebook</a>'\n",
              "          + ' to learn more about interactive tables.';\n",
              "        element.innerHTML = '';\n",
              "        dataTable['output_type'] = 'display_data';\n",
              "        await google.colab.output.renderOutput(dataTable, element);\n",
              "        const docLink = document.createElement('div');\n",
              "        docLink.innerHTML = docLinkHtml;\n",
              "        element.appendChild(docLink);\n",
              "      }\n",
              "    </script>\n",
              "  </div>\n",
              "\n",
              "\n",
              "<div id=\"df-8ecebe52-e730-40b1-ab07-bd3ed0ddb344\">\n",
              "  <button class=\"colab-df-quickchart\" onclick=\"quickchart('df-8ecebe52-e730-40b1-ab07-bd3ed0ddb344')\"\n",
              "            title=\"Suggest charts.\"\n",
              "            style=\"display:none;\">\n",
              "\n",
              "<svg xmlns=\"http://www.w3.org/2000/svg\" height=\"24px\"viewBox=\"0 0 24 24\"\n",
              "     width=\"24px\">\n",
              "    <g>\n",
              "        <path d=\"M19 3H5c-1.1 0-2 .9-2 2v14c0 1.1.9 2 2 2h14c1.1 0 2-.9 2-2V5c0-1.1-.9-2-2-2zM9 17H7v-7h2v7zm4 0h-2V7h2v10zm4 0h-2v-4h2v4z\"/>\n",
              "    </g>\n",
              "</svg>\n",
              "  </button>\n",
              "\n",
              "<style>\n",
              "  .colab-df-quickchart {\n",
              "    background-color: #E8F0FE;\n",
              "    border: none;\n",
              "    border-radius: 50%;\n",
              "    cursor: pointer;\n",
              "    display: none;\n",
              "    fill: #1967D2;\n",
              "    height: 32px;\n",
              "    padding: 0 0 0 0;\n",
              "    width: 32px;\n",
              "  }\n",
              "\n",
              "  .colab-df-quickchart:hover {\n",
              "    background-color: #E2EBFA;\n",
              "    box-shadow: 0px 1px 2px rgba(60, 64, 67, 0.3), 0px 1px 3px 1px rgba(60, 64, 67, 0.15);\n",
              "    fill: #174EA6;\n",
              "  }\n",
              "\n",
              "  [theme=dark] .colab-df-quickchart {\n",
              "    background-color: #3B4455;\n",
              "    fill: #D2E3FC;\n",
              "  }\n",
              "\n",
              "  [theme=dark] .colab-df-quickchart:hover {\n",
              "    background-color: #434B5C;\n",
              "    box-shadow: 0px 1px 3px 1px rgba(0, 0, 0, 0.15);\n",
              "    filter: drop-shadow(0px 1px 2px rgba(0, 0, 0, 0.3));\n",
              "    fill: #FFFFFF;\n",
              "  }\n",
              "</style>\n",
              "\n",
              "  <script>\n",
              "    async function quickchart(key) {\n",
              "      const charts = await google.colab.kernel.invokeFunction(\n",
              "          'suggestCharts', [key], {});\n",
              "    }\n",
              "    (() => {\n",
              "      let quickchartButtonEl =\n",
              "        document.querySelector('#df-8ecebe52-e730-40b1-ab07-bd3ed0ddb344 button');\n",
              "      quickchartButtonEl.style.display =\n",
              "        google.colab.kernel.accessAllowed ? 'block' : 'none';\n",
              "    })();\n",
              "  </script>\n",
              "</div>\n",
              "    </div>\n",
              "  </div>\n"
            ]
          },
          "metadata": {},
          "execution_count": 35
        }
      ]
    },
    {
      "cell_type": "markdown",
      "source": [
        "# Data Scaling and Resampling"
      ],
      "metadata": {
        "id": "Amy9m85KhsSL"
      }
    },
    {
      "cell_type": "code",
      "source": [
        "def scale_data(df):\n",
        "    df[\"class\"]=(df[\"class\"]==\"g\").astype(int)\n",
        "    df=df.fillna(df.median())\n",
        "    scaler=StandardScaler()\n",
        "    x_scale=df[cols[:-1]].values\n",
        "    y=df[cols[-1]].values\n",
        "    x_scaled=scaler.fit_transform(x_scale)\n",
        "    x=x_scaled\n",
        "    ros=RandomOverSampler()\n",
        "    x,y=ros.fit_resample(x,y)\n",
        "    data=np.hstack((x,np.reshape(y,(-1,1))))\n",
        "    return x,y,data"
      ],
      "metadata": {
        "id": "LTckfICuT1GU"
      },
      "execution_count": 36,
      "outputs": []
    },
    {
      "cell_type": "code",
      "source": [
        "x_train,y_train,train=scale_data(df_train)\n",
        "x_test,y_test,test=scale_data(df_test)\n",
        "x_valid, y_valid, valid=scale_data(df_valid)"
      ],
      "metadata": {
        "id": "EaJaR5-sT146"
      },
      "execution_count": 37,
      "outputs": []
    },
    {
      "cell_type": "markdown",
      "source": [
        "# Using Naive Bayes (Gaussian)"
      ],
      "metadata": {
        "id": "EvJkq5qo4NI8"
      }
    },
    {
      "cell_type": "code",
      "source": [
        "from sklearn.naive_bayes import GaussianNB\n",
        "model=GaussianNB()\n",
        "NB_model=model.fit(x_train,y_train)"
      ],
      "metadata": {
        "id": "6h-tEtkg4Eap"
      },
      "execution_count": 40,
      "outputs": []
    },
    {
      "cell_type": "code",
      "source": [
        "y_pred=NB_model.predict(x_valid)\n",
        "print(accuracy_score(y_valid,y_pred))"
      ],
      "metadata": {
        "colab": {
          "base_uri": "https://localhost:8080/"
        },
        "id": "N36K1cX04ofC",
        "outputId": "313032e3-62ab-4c11-a596-f69507d15134"
      },
      "execution_count": 43,
      "outputs": [
        {
          "output_type": "stream",
          "name": "stdout",
          "text": [
            "0.6549153908138597\n"
          ]
        }
      ]
    },
    {
      "cell_type": "markdown",
      "source": [
        "# Training using Support Vector Machine(SVM)"
      ],
      "metadata": {
        "id": "z5ExZbUPhOkU"
      }
    },
    {
      "cell_type": "code",
      "source": [
        "from sklearn.svm import SVC\n",
        "from sklearn.metrics import classification_report\n",
        "model=SVC(kernel=\"rbf\")\n",
        "SVM_model=model.fit(x_train,y_train)"
      ],
      "metadata": {
        "id": "39aLVhzbT4ih"
      },
      "execution_count": 38,
      "outputs": []
    },
    {
      "cell_type": "code",
      "source": [
        "y_pred=SVM_model.predict(x_valid)\n",
        "print(accuracy_score(y_valid,y_pred))"
      ],
      "metadata": {
        "id": "69vxnYkMT7pn",
        "colab": {
          "base_uri": "https://localhost:8080/"
        },
        "outputId": "6502981a-a440-47fa-e655-b312236965f6"
      },
      "execution_count": 39,
      "outputs": [
        {
          "output_type": "stream",
          "name": "stdout",
          "text": [
            "0.838436744560838\n"
          ]
        }
      ]
    },
    {
      "cell_type": "markdown",
      "source": [
        "# Using KNN\n",
        "Evaluating using k values from 1 to 20, it was found that the highest accuracy is achieved using a k value of 17"
      ],
      "metadata": {
        "id": "pzkVGYa_hbid"
      }
    },
    {
      "cell_type": "code",
      "source": [
        "from sklearn.neighbors import KNeighborsClassifier\n",
        "model=KNeighborsClassifier(n_neighbors=17)\n",
        "KNN_model=model.fit(x_train,y_train)\n",
        "y_pred=KNN_model.predict(x_valid)\n",
        "print(accuracy_score(y_valid,y_pred))\n"
      ],
      "metadata": {
        "colab": {
          "base_uri": "https://localhost:8080/"
        },
        "id": "TuZiRobTeANx",
        "outputId": "6314047e-0898-4c12-e0dd-ee29ef0f6538"
      },
      "execution_count": null,
      "outputs": [
        {
          "output_type": "stream",
          "name": "stdout",
          "text": [
            "0.8118630248675092\n"
          ]
        }
      ]
    },
    {
      "cell_type": "markdown",
      "source": [
        "# Final Model\n",
        "Better results are achieved using SVM"
      ],
      "metadata": {
        "id": "HPNXCa3ijx5M"
      }
    },
    {
      "cell_type": "code",
      "source": [
        "print(accuracy_score(y_test,SVM_model.predict(x_test)))"
      ],
      "metadata": {
        "colab": {
          "base_uri": "https://localhost:8080/"
        },
        "id": "HXsXkF7AivXk",
        "outputId": "0c1df38a-3637-40e4-81fa-48f7b860b6ba"
      },
      "execution_count": null,
      "outputs": [
        {
          "output_type": "stream",
          "name": "stdout",
          "text": [
            "0.850996015936255\n"
          ]
        }
      ]
    }
  ]
}
