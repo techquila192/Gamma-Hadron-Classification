{
  "nbformat": 4,
  "nbformat_minor": 0,
  "metadata": {
    "colab": {
      "provenance": [],
      "authorship_tag": "ABX9TyMmVv3t3/5N+55jyRDDg1M+",
      "include_colab_link": true
    },
    "kernelspec": {
      "name": "python3",
      "display_name": "Python 3"
    },
    "language_info": {
      "name": "python"
    }
  },
  "cells": [
    {
      "cell_type": "markdown",
      "metadata": {
        "id": "view-in-github",
        "colab_type": "text"
      },
      "source": [
        "<a href=\"https://colab.research.google.com/github/techquila192/Gamma-Hadron-Classification/blob/main/Untitled2.ipynb\" target=\"_parent\"><img src=\"https://colab.research.google.com/assets/colab-badge.svg\" alt=\"Open In Colab\"/></a>"
      ]
    },
    {
      "cell_type": "code",
      "execution_count": 137,
      "metadata": {
        "id": "nOUx_24wTpqZ"
      },
      "outputs": [],
      "source": [
        "import numpy as np # linear algebra\n",
        "import pandas as pd # data processing, CSV file I/O (e.g. pd.read_csv)\n",
        "import matplotlib.pyplot as plt\n",
        "from sklearn.preprocessing import StandardScaler\n",
        "from imblearn.over_sampling import RandomOverSampler\n",
        "from sklearn.metrics import accuracy_score"
      ]
    },
    {
      "cell_type": "code",
      "source": [
        "cols=['fLength', 'fWidth', 'fSize', 'fConC', 'fConc1', 'fAsym', 'fM3Long', 'fM3Trans', 'fAlpha', 'fDist', 'class']\n",
        "df = pd.read_csv(\"/content/sample_data/magic04.data\",names=cols)\n",
        "df_train,df_test,df_valid = np.split(df.sample(frac=1),[int(0.6*len(df)),int(0.8*len(df))])\n",
        "df_train.head(10)"
      ],
      "metadata": {
        "id": "xZAaCNgOTuvr",
        "colab": {
          "base_uri": "https://localhost:8080/",
          "height": 363
        },
        "outputId": "2129f383-5b91-4770-c613-ec9bdffd5cfb"
      },
      "execution_count": 138,
      "outputs": [
        {
          "output_type": "execute_result",
          "data": {
            "text/plain": [
              "        fLength   fWidth   fSize   fConC  fConc1     fAsym  fM3Long  fM3Trans  \\\n",
              "13712  105.1794  46.2561  3.5711  0.0841  0.0406   72.4321  61.0396  -33.1420   \n",
              "7705    27.8728  14.7857  2.3598  0.3843  0.2031   -3.2826 -22.8391    9.9961   \n",
              "4924    41.7353  15.5419  2.7435  0.3538  0.1940   -1.4304  28.6890    3.4026   \n",
              "18916   49.3296  23.3190  2.9009  0.1985  0.1137   12.0481 -32.4222   13.7545   \n",
              "6163    39.0781  23.4318  3.0726  0.2183  0.1096    4.7344 -15.2045  -14.3897   \n",
              "15225   60.1109   9.0810  2.8645  0.3374  0.1769   51.1900  11.9985   -4.8898   \n",
              "4452    19.4363   9.6894  2.4983  0.5937  0.3635   22.1912  12.1362   -3.5354   \n",
              "2542    96.4553  33.8560  4.0044  0.1104  0.0553   71.2174  78.5425   21.8686   \n",
              "3252   106.0080  20.3299  2.5384  0.3936  0.2012 -131.4040  82.9771  -12.0510   \n",
              "3521    34.8702  18.7861  2.6390  0.3238  0.1757  -25.4291  12.7094  -11.6604   \n",
              "\n",
              "        fAlpha     fDist class  \n",
              "13712  26.1867  225.4863     h  \n",
              "7705    2.2750  179.0940     g  \n",
              "4924   11.4110  225.8450     g  \n",
              "18916  14.0480   69.9318     h  \n",
              "6163    3.3991  171.9330     g  \n",
              "15225  74.0560  130.7370     h  \n",
              "4452   35.8010  154.5730     g  \n",
              "2542    1.7133  281.1890     g  \n",
              "3252    6.8644  196.7610     g  \n",
              "3521   25.1390  171.1630     g  "
            ],
            "text/html": [
              "\n",
              "  <div id=\"df-edc56bd4-0ca8-4e33-9b71-b1aa529219c2\" class=\"colab-df-container\">\n",
              "    <div>\n",
              "<style scoped>\n",
              "    .dataframe tbody tr th:only-of-type {\n",
              "        vertical-align: middle;\n",
              "    }\n",
              "\n",
              "    .dataframe tbody tr th {\n",
              "        vertical-align: top;\n",
              "    }\n",
              "\n",
              "    .dataframe thead th {\n",
              "        text-align: right;\n",
              "    }\n",
              "</style>\n",
              "<table border=\"1\" class=\"dataframe\">\n",
              "  <thead>\n",
              "    <tr style=\"text-align: right;\">\n",
              "      <th></th>\n",
              "      <th>fLength</th>\n",
              "      <th>fWidth</th>\n",
              "      <th>fSize</th>\n",
              "      <th>fConC</th>\n",
              "      <th>fConc1</th>\n",
              "      <th>fAsym</th>\n",
              "      <th>fM3Long</th>\n",
              "      <th>fM3Trans</th>\n",
              "      <th>fAlpha</th>\n",
              "      <th>fDist</th>\n",
              "      <th>class</th>\n",
              "    </tr>\n",
              "  </thead>\n",
              "  <tbody>\n",
              "    <tr>\n",
              "      <th>13712</th>\n",
              "      <td>105.1794</td>\n",
              "      <td>46.2561</td>\n",
              "      <td>3.5711</td>\n",
              "      <td>0.0841</td>\n",
              "      <td>0.0406</td>\n",
              "      <td>72.4321</td>\n",
              "      <td>61.0396</td>\n",
              "      <td>-33.1420</td>\n",
              "      <td>26.1867</td>\n",
              "      <td>225.4863</td>\n",
              "      <td>h</td>\n",
              "    </tr>\n",
              "    <tr>\n",
              "      <th>7705</th>\n",
              "      <td>27.8728</td>\n",
              "      <td>14.7857</td>\n",
              "      <td>2.3598</td>\n",
              "      <td>0.3843</td>\n",
              "      <td>0.2031</td>\n",
              "      <td>-3.2826</td>\n",
              "      <td>-22.8391</td>\n",
              "      <td>9.9961</td>\n",
              "      <td>2.2750</td>\n",
              "      <td>179.0940</td>\n",
              "      <td>g</td>\n",
              "    </tr>\n",
              "    <tr>\n",
              "      <th>4924</th>\n",
              "      <td>41.7353</td>\n",
              "      <td>15.5419</td>\n",
              "      <td>2.7435</td>\n",
              "      <td>0.3538</td>\n",
              "      <td>0.1940</td>\n",
              "      <td>-1.4304</td>\n",
              "      <td>28.6890</td>\n",
              "      <td>3.4026</td>\n",
              "      <td>11.4110</td>\n",
              "      <td>225.8450</td>\n",
              "      <td>g</td>\n",
              "    </tr>\n",
              "    <tr>\n",
              "      <th>18916</th>\n",
              "      <td>49.3296</td>\n",
              "      <td>23.3190</td>\n",
              "      <td>2.9009</td>\n",
              "      <td>0.1985</td>\n",
              "      <td>0.1137</td>\n",
              "      <td>12.0481</td>\n",
              "      <td>-32.4222</td>\n",
              "      <td>13.7545</td>\n",
              "      <td>14.0480</td>\n",
              "      <td>69.9318</td>\n",
              "      <td>h</td>\n",
              "    </tr>\n",
              "    <tr>\n",
              "      <th>6163</th>\n",
              "      <td>39.0781</td>\n",
              "      <td>23.4318</td>\n",
              "      <td>3.0726</td>\n",
              "      <td>0.2183</td>\n",
              "      <td>0.1096</td>\n",
              "      <td>4.7344</td>\n",
              "      <td>-15.2045</td>\n",
              "      <td>-14.3897</td>\n",
              "      <td>3.3991</td>\n",
              "      <td>171.9330</td>\n",
              "      <td>g</td>\n",
              "    </tr>\n",
              "    <tr>\n",
              "      <th>15225</th>\n",
              "      <td>60.1109</td>\n",
              "      <td>9.0810</td>\n",
              "      <td>2.8645</td>\n",
              "      <td>0.3374</td>\n",
              "      <td>0.1769</td>\n",
              "      <td>51.1900</td>\n",
              "      <td>11.9985</td>\n",
              "      <td>-4.8898</td>\n",
              "      <td>74.0560</td>\n",
              "      <td>130.7370</td>\n",
              "      <td>h</td>\n",
              "    </tr>\n",
              "    <tr>\n",
              "      <th>4452</th>\n",
              "      <td>19.4363</td>\n",
              "      <td>9.6894</td>\n",
              "      <td>2.4983</td>\n",
              "      <td>0.5937</td>\n",
              "      <td>0.3635</td>\n",
              "      <td>22.1912</td>\n",
              "      <td>12.1362</td>\n",
              "      <td>-3.5354</td>\n",
              "      <td>35.8010</td>\n",
              "      <td>154.5730</td>\n",
              "      <td>g</td>\n",
              "    </tr>\n",
              "    <tr>\n",
              "      <th>2542</th>\n",
              "      <td>96.4553</td>\n",
              "      <td>33.8560</td>\n",
              "      <td>4.0044</td>\n",
              "      <td>0.1104</td>\n",
              "      <td>0.0553</td>\n",
              "      <td>71.2174</td>\n",
              "      <td>78.5425</td>\n",
              "      <td>21.8686</td>\n",
              "      <td>1.7133</td>\n",
              "      <td>281.1890</td>\n",
              "      <td>g</td>\n",
              "    </tr>\n",
              "    <tr>\n",
              "      <th>3252</th>\n",
              "      <td>106.0080</td>\n",
              "      <td>20.3299</td>\n",
              "      <td>2.5384</td>\n",
              "      <td>0.3936</td>\n",
              "      <td>0.2012</td>\n",
              "      <td>-131.4040</td>\n",
              "      <td>82.9771</td>\n",
              "      <td>-12.0510</td>\n",
              "      <td>6.8644</td>\n",
              "      <td>196.7610</td>\n",
              "      <td>g</td>\n",
              "    </tr>\n",
              "    <tr>\n",
              "      <th>3521</th>\n",
              "      <td>34.8702</td>\n",
              "      <td>18.7861</td>\n",
              "      <td>2.6390</td>\n",
              "      <td>0.3238</td>\n",
              "      <td>0.1757</td>\n",
              "      <td>-25.4291</td>\n",
              "      <td>12.7094</td>\n",
              "      <td>-11.6604</td>\n",
              "      <td>25.1390</td>\n",
              "      <td>171.1630</td>\n",
              "      <td>g</td>\n",
              "    </tr>\n",
              "  </tbody>\n",
              "</table>\n",
              "</div>\n",
              "    <div class=\"colab-df-buttons\">\n",
              "\n",
              "  <div class=\"colab-df-container\">\n",
              "    <button class=\"colab-df-convert\" onclick=\"convertToInteractive('df-edc56bd4-0ca8-4e33-9b71-b1aa529219c2')\"\n",
              "            title=\"Convert this dataframe to an interactive table.\"\n",
              "            style=\"display:none;\">\n",
              "\n",
              "  <svg xmlns=\"http://www.w3.org/2000/svg\" height=\"24px\" viewBox=\"0 -960 960 960\">\n",
              "    <path d=\"M120-120v-720h720v720H120Zm60-500h600v-160H180v160Zm220 220h160v-160H400v160Zm0 220h160v-160H400v160ZM180-400h160v-160H180v160Zm440 0h160v-160H620v160ZM180-180h160v-160H180v160Zm440 0h160v-160H620v160Z\"/>\n",
              "  </svg>\n",
              "    </button>\n",
              "\n",
              "  <style>\n",
              "    .colab-df-container {\n",
              "      display:flex;\n",
              "      gap: 12px;\n",
              "    }\n",
              "\n",
              "    .colab-df-convert {\n",
              "      background-color: #E8F0FE;\n",
              "      border: none;\n",
              "      border-radius: 50%;\n",
              "      cursor: pointer;\n",
              "      display: none;\n",
              "      fill: #1967D2;\n",
              "      height: 32px;\n",
              "      padding: 0 0 0 0;\n",
              "      width: 32px;\n",
              "    }\n",
              "\n",
              "    .colab-df-convert:hover {\n",
              "      background-color: #E2EBFA;\n",
              "      box-shadow: 0px 1px 2px rgba(60, 64, 67, 0.3), 0px 1px 3px 1px rgba(60, 64, 67, 0.15);\n",
              "      fill: #174EA6;\n",
              "    }\n",
              "\n",
              "    .colab-df-buttons div {\n",
              "      margin-bottom: 4px;\n",
              "    }\n",
              "\n",
              "    [theme=dark] .colab-df-convert {\n",
              "      background-color: #3B4455;\n",
              "      fill: #D2E3FC;\n",
              "    }\n",
              "\n",
              "    [theme=dark] .colab-df-convert:hover {\n",
              "      background-color: #434B5C;\n",
              "      box-shadow: 0px 1px 3px 1px rgba(0, 0, 0, 0.15);\n",
              "      filter: drop-shadow(0px 1px 2px rgba(0, 0, 0, 0.3));\n",
              "      fill: #FFFFFF;\n",
              "    }\n",
              "  </style>\n",
              "\n",
              "    <script>\n",
              "      const buttonEl =\n",
              "        document.querySelector('#df-edc56bd4-0ca8-4e33-9b71-b1aa529219c2 button.colab-df-convert');\n",
              "      buttonEl.style.display =\n",
              "        google.colab.kernel.accessAllowed ? 'block' : 'none';\n",
              "\n",
              "      async function convertToInteractive(key) {\n",
              "        const element = document.querySelector('#df-edc56bd4-0ca8-4e33-9b71-b1aa529219c2');\n",
              "        const dataTable =\n",
              "          await google.colab.kernel.invokeFunction('convertToInteractive',\n",
              "                                                    [key], {});\n",
              "        if (!dataTable) return;\n",
              "\n",
              "        const docLinkHtml = 'Like what you see? Visit the ' +\n",
              "          '<a target=\"_blank\" href=https://colab.research.google.com/notebooks/data_table.ipynb>data table notebook</a>'\n",
              "          + ' to learn more about interactive tables.';\n",
              "        element.innerHTML = '';\n",
              "        dataTable['output_type'] = 'display_data';\n",
              "        await google.colab.output.renderOutput(dataTable, element);\n",
              "        const docLink = document.createElement('div');\n",
              "        docLink.innerHTML = docLinkHtml;\n",
              "        element.appendChild(docLink);\n",
              "      }\n",
              "    </script>\n",
              "  </div>\n",
              "\n",
              "\n",
              "<div id=\"df-0cc9dd47-bded-4f78-93a9-731fd6f65c45\">\n",
              "  <button class=\"colab-df-quickchart\" onclick=\"quickchart('df-0cc9dd47-bded-4f78-93a9-731fd6f65c45')\"\n",
              "            title=\"Suggest charts.\"\n",
              "            style=\"display:none;\">\n",
              "\n",
              "<svg xmlns=\"http://www.w3.org/2000/svg\" height=\"24px\"viewBox=\"0 0 24 24\"\n",
              "     width=\"24px\">\n",
              "    <g>\n",
              "        <path d=\"M19 3H5c-1.1 0-2 .9-2 2v14c0 1.1.9 2 2 2h14c1.1 0 2-.9 2-2V5c0-1.1-.9-2-2-2zM9 17H7v-7h2v7zm4 0h-2V7h2v10zm4 0h-2v-4h2v4z\"/>\n",
              "    </g>\n",
              "</svg>\n",
              "  </button>\n",
              "\n",
              "<style>\n",
              "  .colab-df-quickchart {\n",
              "    background-color: #E8F0FE;\n",
              "    border: none;\n",
              "    border-radius: 50%;\n",
              "    cursor: pointer;\n",
              "    display: none;\n",
              "    fill: #1967D2;\n",
              "    height: 32px;\n",
              "    padding: 0 0 0 0;\n",
              "    width: 32px;\n",
              "  }\n",
              "\n",
              "  .colab-df-quickchart:hover {\n",
              "    background-color: #E2EBFA;\n",
              "    box-shadow: 0px 1px 2px rgba(60, 64, 67, 0.3), 0px 1px 3px 1px rgba(60, 64, 67, 0.15);\n",
              "    fill: #174EA6;\n",
              "  }\n",
              "\n",
              "  [theme=dark] .colab-df-quickchart {\n",
              "    background-color: #3B4455;\n",
              "    fill: #D2E3FC;\n",
              "  }\n",
              "\n",
              "  [theme=dark] .colab-df-quickchart:hover {\n",
              "    background-color: #434B5C;\n",
              "    box-shadow: 0px 1px 3px 1px rgba(0, 0, 0, 0.15);\n",
              "    filter: drop-shadow(0px 1px 2px rgba(0, 0, 0, 0.3));\n",
              "    fill: #FFFFFF;\n",
              "  }\n",
              "</style>\n",
              "\n",
              "  <script>\n",
              "    async function quickchart(key) {\n",
              "      const charts = await google.colab.kernel.invokeFunction(\n",
              "          'suggestCharts', [key], {});\n",
              "    }\n",
              "    (() => {\n",
              "      let quickchartButtonEl =\n",
              "        document.querySelector('#df-0cc9dd47-bded-4f78-93a9-731fd6f65c45 button');\n",
              "      quickchartButtonEl.style.display =\n",
              "        google.colab.kernel.accessAllowed ? 'block' : 'none';\n",
              "    })();\n",
              "  </script>\n",
              "</div>\n",
              "    </div>\n",
              "  </div>\n"
            ]
          },
          "metadata": {},
          "execution_count": 138
        }
      ]
    },
    {
      "cell_type": "markdown",
      "source": [
        "# Data Scaling and Resampling"
      ],
      "metadata": {
        "id": "Amy9m85KhsSL"
      }
    },
    {
      "cell_type": "code",
      "source": [
        "def scale_data(df):\n",
        "    df[\"class\"]=(df[\"class\"]==\"g\").astype(int)\n",
        "    df=df.fillna(df.median())\n",
        "    scaler=StandardScaler()\n",
        "    x_scale=df[cols[:-1]].values\n",
        "    y=df[cols[-1]].values\n",
        "    x_scaled=scaler.fit_transform(x_scale)\n",
        "    x=x_scaled\n",
        "    ros=RandomOverSampler()\n",
        "    x,y=ros.fit_resample(x,y)\n",
        "    data=np.hstack((x,np.reshape(y,(-1,1))))\n",
        "    return x,y,data"
      ],
      "metadata": {
        "id": "LTckfICuT1GU"
      },
      "execution_count": 139,
      "outputs": []
    },
    {
      "cell_type": "code",
      "source": [
        "x_train,y_train,train=scale_data(df_train)\n",
        "x_test,y_test,test=scale_data(df_test)\n",
        "x_valid, y_valid, valid=scale_data(df_valid)"
      ],
      "metadata": {
        "id": "EaJaR5-sT146"
      },
      "execution_count": 140,
      "outputs": []
    },
    {
      "cell_type": "markdown",
      "source": [
        "# Training using Support Vector Machine(SVM)"
      ],
      "metadata": {
        "id": "z5ExZbUPhOkU"
      }
    },
    {
      "cell_type": "code",
      "source": [
        "from sklearn.svm import SVC\n",
        "from sklearn.metrics import classification_report\n",
        "model=SVC()\n",
        "SVM_model=model.fit(x_train,y_train)"
      ],
      "metadata": {
        "id": "39aLVhzbT4ih"
      },
      "execution_count": 141,
      "outputs": []
    },
    {
      "cell_type": "code",
      "source": [
        "y_pred=SVM_model.predict(x_valid)\n",
        "print(accuracy_score(y_valid,y_pred))"
      ],
      "metadata": {
        "id": "69vxnYkMT7pn",
        "colab": {
          "base_uri": "https://localhost:8080/"
        },
        "outputId": "495fe710-7ace-4f86-c6bc-5df2bd292bb4"
      },
      "execution_count": 142,
      "outputs": [
        {
          "output_type": "stream",
          "name": "stdout",
          "text": [
            "0.842845495311863\n"
          ]
        }
      ]
    },
    {
      "cell_type": "markdown",
      "source": [
        "# Using KNN\n",
        "Evaluating using k values from 1 to 20, it was found that the highest accuracy is achieved using a k value of 17"
      ],
      "metadata": {
        "id": "pzkVGYa_hbid"
      }
    },
    {
      "cell_type": "code",
      "source": [
        "from sklearn.neighbors import KNeighborsClassifier\n",
        "model=KNeighborsClassifier(n_neighbors=17)\n",
        "KNN_model=model.fit(x_train,y_train)\n",
        "y_pred=KNN_model.predict(x_valid)\n",
        "print(accuracy_score(y_valid,y_pred))\n"
      ],
      "metadata": {
        "colab": {
          "base_uri": "https://localhost:8080/"
        },
        "id": "TuZiRobTeANx",
        "outputId": "6314047e-0898-4c12-e0dd-ee29ef0f6538"
      },
      "execution_count": 143,
      "outputs": [
        {
          "output_type": "stream",
          "name": "stdout",
          "text": [
            "0.8118630248675092\n"
          ]
        }
      ]
    },
    {
      "cell_type": "markdown",
      "source": [
        "# Final Model\n",
        "Better results are achieved using SVM"
      ],
      "metadata": {
        "id": "HPNXCa3ijx5M"
      }
    },
    {
      "cell_type": "code",
      "source": [
        "print(accuracy_score(y_test,SVM_model.predict(x_test)))"
      ],
      "metadata": {
        "colab": {
          "base_uri": "https://localhost:8080/"
        },
        "id": "HXsXkF7AivXk",
        "outputId": "0c1df38a-3637-40e4-81fa-48f7b860b6ba"
      },
      "execution_count": 144,
      "outputs": [
        {
          "output_type": "stream",
          "name": "stdout",
          "text": [
            "0.850996015936255\n"
          ]
        }
      ]
    }
  ]
}
